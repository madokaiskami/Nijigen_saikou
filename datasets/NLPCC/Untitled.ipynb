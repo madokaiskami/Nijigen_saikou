{
 "cells": [
  {
   "cell_type": "code",
   "execution_count": 1,
   "id": "c68fe22e",
   "metadata": {},
   "outputs": [],
   "source": [
    "import pandas as pd"
   ]
  },
  {
   "cell_type": "code",
   "execution_count": 20,
   "id": "9cf91db0",
   "metadata": {},
   "outputs": [],
   "source": [
    "df = pd.read_csv('Nlpcc2013Train.csv')"
   ]
  },
  {
   "cell_type": "code",
   "execution_count": 21,
   "id": "365986d9",
   "metadata": {},
   "outputs": [
    {
     "data": {
      "text/plain": [
       "label\n",
       "like         4084\n",
       "disgust      2331\n",
       "happiness    2254\n",
       "sadness      1827\n",
       "anger        1475\n",
       "surprise      761\n",
       "fear          286\n",
       "none            1\n",
       "Name: count, dtype: int64"
      ]
     },
     "execution_count": 21,
     "metadata": {},
     "output_type": "execute_result"
    }
   ],
   "source": [
    "df['label'].value_counts()"
   ]
  },
  {
   "cell_type": "code",
   "execution_count": 25,
   "id": "15a24ac5",
   "metadata": {},
   "outputs": [],
   "source": [
    "df = df.drop(df[df['label'] == 'none'].index)\n",
    "df = df.drop(df[df['label'] == 'surprise'].index)\n",
    "df = df.drop(df[df['label'] == 'fear'].index)"
   ]
  },
  {
   "cell_type": "code",
   "execution_count": 26,
   "id": "45cb3656",
   "metadata": {},
   "outputs": [
    {
     "data": {
      "text/plain": [
       "label\n",
       "like         4084\n",
       "disgust      2331\n",
       "happiness    2254\n",
       "sadness      1827\n",
       "anger        1475\n",
       "Name: count, dtype: int64"
      ]
     },
     "execution_count": 26,
     "metadata": {},
     "output_type": "execute_result"
    }
   ],
   "source": [
    "df['label'].value_counts()"
   ]
  },
  {
   "cell_type": "code",
   "execution_count": 14,
   "id": "48dbeba9",
   "metadata": {},
   "outputs": [],
   "source": [
    "df3 = pd.read_csv('Nlpcc2014Train1.csv')"
   ]
  },
  {
   "cell_type": "code",
   "execution_count": 16,
   "id": "5f94e2f2",
   "metadata": {},
   "outputs": [
    {
     "data": {
      "text/plain": [
       "标签\n",
       "none         2759\n",
       "like         1230\n",
       "happiness     885\n",
       "sadness       687\n",
       "disgust       648\n",
       "anger         513\n",
       "surprise      192\n",
       "fear          104\n",
       "Name: count, dtype: int64"
      ]
     },
     "execution_count": 16,
     "metadata": {},
     "output_type": "execute_result"
    }
   ],
   "source": [
    "df3['标签'].value_counts()"
   ]
  },
  {
   "cell_type": "code",
   "execution_count": null,
   "id": "1d64b1a0",
   "metadata": {},
   "outputs": [],
   "source": [
    "csv_writer.writerow(['label','text'])"
   ]
  }
 ],
 "metadata": {
  "kernelspec": {
   "display_name": "pytorch",
   "language": "python",
   "name": "pytorch"
  },
  "language_info": {
   "codemirror_mode": {
    "name": "ipython",
    "version": 3
   },
   "file_extension": ".py",
   "mimetype": "text/x-python",
   "name": "python",
   "nbconvert_exporter": "python",
   "pygments_lexer": "ipython3",
   "version": "3.9.18"
  }
 },
 "nbformat": 4,
 "nbformat_minor": 5
}
