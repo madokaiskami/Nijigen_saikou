{
  "nbformat": 4,
  "nbformat_minor": 0,
  "metadata": {
    "colab": {
      "provenance": []
    },
    "kernelspec": {
      "name": "python3",
      "display_name": "Python 3"
    },
    "language_info": {
      "name": "python"
    }
  },
  "cells": [
    {
      "cell_type": "code",
      "execution_count": 6,
      "metadata": {
        "colab": {
          "base_uri": "https://localhost:8080/"
        },
        "id": "Qdo-jA7dBHGd",
        "outputId": "01a514f4-78ef-4871-dda1-c1b6a19da5e9"
      },
      "outputs": [
        {
          "output_type": "stream",
          "name": "stdout",
          "text": [
            "Requirement already satisfied: sklearn-crfsuite in /usr/local/lib/python3.10/dist-packages (0.3.6)\n",
            "Requirement already satisfied: python-crfsuite>=0.8.3 in /usr/local/lib/python3.10/dist-packages (from sklearn-crfsuite) (0.9.9)\n",
            "Requirement already satisfied: six in /usr/local/lib/python3.10/dist-packages (from sklearn-crfsuite) (1.16.0)\n",
            "Requirement already satisfied: tabulate in /usr/local/lib/python3.10/dist-packages (from sklearn-crfsuite) (0.9.0)\n",
            "Requirement already satisfied: tqdm>=2.0 in /usr/local/lib/python3.10/dist-packages (from sklearn-crfsuite) (4.66.1)\n"
          ]
        }
      ],
      "source": [
        "!pip install sklearn-crfsuite"
      ]
    },
    {
      "cell_type": "code",
      "source": [
        "import re\n",
        "import sklearn_crfsuite\n",
        "from sklearn_crfsuite import metrics\n",
        "import joblib\n",
        "import yaml\n",
        "import warnings\n",
        "warnings.filterwarnings('ignore')"
      ],
      "metadata": {
        "id": "JqL_iajUBUDB"
      },
      "execution_count": 2,
      "outputs": []
    },
    {
      "cell_type": "code",
      "source": [
        "def load_data(data_path):\n",
        "    data_read_all = list()\n",
        "    data_sent_with_label = list()\n",
        "    with open(data_path, mode='r', encoding=\"utf-8\") as f:\n",
        "        for line in f:\n",
        "            if line.strip() == \"\":\n",
        "                data_read_all.append(data_sent_with_label.copy())\n",
        "                data_sent_with_label.clear()\n",
        "            else:\n",
        "                data_sent_with_label.append(tuple(line.strip().split(\" \")))\n",
        "    return data_read_all\n"
      ],
      "metadata": {
        "id": "v-3bSolXBYpP"
      },
      "execution_count": 3,
      "outputs": []
    },
    {
      "cell_type": "code",
      "source": [
        "def word2features(sent, i):\n",
        "    word = sent[i][0]\n",
        "    #构造特征字典，我这里因为整体句子长度比较长，滑动窗口的大小设置的是6 在特征的构建中主要考虑了字的标识,是否是数字和字周围的特征信息\n",
        "    features = {\n",
        "        'bias': 1.0,\n",
        "        'word': word,\n",
        "        'word.isdigit()': word.isdigit(),\n",
        "    }\n",
        "    #该字的前一个字\n",
        "    if i > 0:\n",
        "        word1 = sent[i-1][0]\n",
        "        words = word1 + word\n",
        "        features.update({\n",
        "            '-1:word': word1,\n",
        "            '-1:words': words,\n",
        "            '-1:word.isdigit()': word1.isdigit(),\n",
        "        })\n",
        "    else:\n",
        "        #添加开头的标识 BOS(begin of sentence)\n",
        "        features['BOS'] = True\n",
        "    #该字的前两个字\n",
        "    if i > 1:\n",
        "        word2 = sent[i-2][0]\n",
        "        word1 = sent[i-1][0]\n",
        "        words = word1 + word2 + word\n",
        "        features.update({\n",
        "            '-2:word': word2,\n",
        "            '-2:words': words,\n",
        "            '-3:word.isdigit()': word2.isdigit(),\n",
        "        })\n",
        "    #该字的前三个字\n",
        "    if i > 2:\n",
        "        word3 = sent[i - 3][0]\n",
        "        word2 = sent[i - 2][0]\n",
        "        word1 = sent[i - 1][0]\n",
        "        words = word1 + word2 + word3 + word\n",
        "        features.update({\n",
        "            '-3:word': word3,\n",
        "            '-3:words': words,\n",
        "            '-3:word.isdigit()': word3.isdigit(),\n",
        "        })\n",
        "    #该字的后一个字\n",
        "    if i < len(sent)-1:\n",
        "        word1 = sent[i+1][0]\n",
        "        words = word1 + word\n",
        "        features.update({\n",
        "            '+1:word': word1,\n",
        "            '+1:words': words,\n",
        "            '+1:word.isdigit()': word1.isdigit(),\n",
        "        })\n",
        "    else:\n",
        "    #若改字为句子的结尾添加对应的标识end of sentence\n",
        "        features['EOS'] = True\n",
        "    #该字的后两个字\n",
        "    if i < len(sent)-2:\n",
        "        word2 = sent[i + 2][0]\n",
        "        word1 = sent[i + 1][0]\n",
        "        words = word + word1 + word2\n",
        "        features.update({\n",
        "            '+2:word': word2,\n",
        "            '+2:words': words,\n",
        "            '+2:word.isdigit()': word2.isdigit(),\n",
        "        })\n",
        "    #该字的后三个字\n",
        "    if i < len(sent)-3:\n",
        "        word3 = sent[i + 3][0]\n",
        "        word2 = sent[i + 2][0]\n",
        "        word1 = sent[i + 1][0]\n",
        "        words = word + word1 + word2 + word3\n",
        "        features.update({\n",
        "            '+3:word': word3,\n",
        "            '+3:words': words,\n",
        "            '+3:word.isdigit()': word3.isdigit(),\n",
        "        })\n",
        "    return features\n"
      ],
      "metadata": {
        "id": "_t4fT4QeBdFI"
      },
      "execution_count": 4,
      "outputs": []
    },
    {
      "cell_type": "code",
      "source": [
        "def sent2features(sent):\n",
        "    return [word2features(sent, i) for i in range(len(sent))]\n",
        "\n",
        "def sent2labels(sent):\n",
        "    return [ele[-1] for ele in sent]\n"
      ],
      "metadata": {
        "id": "aLFu7vHXBr7G"
      },
      "execution_count": 5,
      "outputs": []
    },
    {
      "cell_type": "code",
      "source": [
        "import json"
      ],
      "metadata": {
        "id": "vOyN12GOBstR"
      },
      "execution_count": 7,
      "outputs": []
    },
    {
      "cell_type": "code",
      "source": [
        "file = open(\"/content/train.json\", 'r', encoding='utf-8')\n",
        "papers = []\n",
        "for line in file.readlines():\n",
        "    dic = json.loads(line)\n",
        "    papers.append(dic)"
      ],
      "metadata": {
        "id": "TfrCCtwpQnqX"
      },
      "execution_count": 13,
      "outputs": []
    },
    {
      "cell_type": "code",
      "source": [
        "print(type(papers[0]))"
      ],
      "metadata": {
        "colab": {
          "base_uri": "https://localhost:8080/"
        },
        "id": "R4msb2PFSLV-",
        "outputId": "3d60aee7-3351-4ba0-8399-1e6b10974524"
      },
      "execution_count": 15,
      "outputs": [
        {
          "output_type": "stream",
          "name": "stdout",
          "text": [
            "<class 'dict'>\n"
          ]
        }
      ]
    },
    {
      "cell_type": "code",
      "source": [
        "train=load_data('data/cluner_train.txt')\n",
        "valid=load_data('data/cluner_dev.txt')\n",
        "print('训练集规模:',len(train))\n",
        "print('验证集规模:',len(valid))\n",
        "sample_text=''.join([c[0] for c in train[0]])\n",
        "sample_tags=[c[1] for c in train[0]]\n",
        "X_train = [sent2features(s) for s in train]\n",
        "y_train = [sent2labels(s) for s in train]\n",
        "X_dev = [sent2features(s) for s in valid]\n",
        "y_dev = [sent2labels(s) for s in valid]\n",
        "print(X_train[0])"
      ],
      "metadata": {
        "id": "Vka6dWVx3nIA"
      },
      "execution_count": null,
      "outputs": []
    },
    {
      "cell_type": "code",
      "source": [
        "crf_model = sklearn_crfsuite.CRF(algorithm='lbfgs',c1=0.25,c2=0.018,max_iterations=300,\n",
        "                                 all_possible_transitions=True,verbose=True)\n",
        "crf_model.fit(X_train, y_train)"
      ],
      "metadata": {
        "id": "QZTqx03R3o7P"
      },
      "execution_count": null,
      "outputs": []
    },
    {
      "cell_type": "code",
      "source": [
        "labels=list(crf_model.classes_)\n",
        "labels.remove(\"O\")  #对于O标签的预测我们不关心，就直接去掉\n",
        "y_pred = crf_model.predict(X_dev)\n",
        "metrics.flat_f1_score(y_dev, y_pred,\n",
        "                      average='weighted', labels=labels)\n",
        "sorted_labels = sorted(labels,key=lambda name: (name[1:], name[0]))\n",
        "print(metrics.flat_classification_report(\n",
        "    y_dev, y_pred, labels=sorted_labels, digits=3\n",
        "))\n"
      ],
      "metadata": {
        "id": "MczbknZh3vdm"
      },
      "execution_count": null,
      "outputs": []
    },
    {
      "cell_type": "code",
      "source": [
        "import joblib\n",
        "joblib.dump(crf_model, \"checkpoint/crf_model.joblib\")\n"
      ],
      "metadata": {
        "id": "qCC8H0Me3xSb"
      },
      "execution_count": null,
      "outputs": []
    }
  ]
}